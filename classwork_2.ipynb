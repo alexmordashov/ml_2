{
 "cells": [
  {
   "cell_type": "code",
   "execution_count": null,
   "metadata": {},
   "outputs": [],
   "source": [
    "import pandas as pd\n",
    "import matplotlib.pyplot as plt"
   ]
  },
  {
   "cell_type": "code",
   "execution_count": 6,
   "metadata": {},
   "outputs": [],
   "source": [
    "data = pd.read_csv(\"data.csv\")"
   ]
  },
  {
   "cell_type": "code",
   "execution_count": 7,
   "metadata": {},
   "outputs": [
    {
     "name": "stdout",
     "output_type": "stream",
     "text": [
      "          URL  URL_LENGTH  NUMBER_SPECIAL_CHARACTERS     CHARSET  \\\n",
      "0      M0_109          16                          7  iso-8859-1   \n",
      "1      B0_827          53                          9    us-ascii   \n",
      "2     B0_2314          16                          6       UTF-8   \n",
      "3      B0_862          53                         10    us-ascii   \n",
      "4      B0_911          16                          6    us-ascii   \n",
      "...       ...         ...                        ...         ...   \n",
      "1776  B0_2131          53                         10       UTF-8   \n",
      "1777  B0_2268          53                          9       UTF-8   \n",
      "1778   B0_294          53                          7  iso-8859-1   \n",
      "1779   B0_472          53                         12  iso-8859-1   \n",
      "1780   B0_556          53                         12  ISO-8859-1   \n",
      "\n",
      "                                                 SERVER  CONTENT_LENGTH  \\\n",
      "0                                                 nginx           263.0   \n",
      "1                                 Microsoft-HTTPAPI/2.0           324.0   \n",
      "2                                         Apache/2.4.10         15087.0   \n",
      "3                                 Microsoft-HTTPAPI/2.0           324.0   \n",
      "4                                 Microsoft-HTTPAPI/2.0           324.0   \n",
      "...                                                 ...             ...   \n",
      "1776                                      nginx/1.11.10             NaN   \n",
      "1777  Apache/2.2.21 (Unix) mod_ssl/2.2.21 OpenSSL/0....          2023.0   \n",
      "1778                                          ATS/5.3.0             NaN   \n",
      "1779                                             Apache           211.0   \n",
      "1780                                             Apache        359174.0   \n",
      "\n",
      "       WHOIS_COUNTRY WHOIS_STATEPRO     WHOIS_REGDATE WHOIS_UPDATED_DATE  ...  \\\n",
      "0                NaN            NaN  10/10/2015 18:21                NaN  ...   \n",
      "1                NaN            NaN               NaN                NaN  ...   \n",
      "2                NaN            NaN               NaN                NaN  ...   \n",
      "3     United Kingdom            NaN               NaN                NaN  ...   \n",
      "4                NaN            NaN               NaN                NaN  ...   \n",
      "...              ...            ...               ...                ...  ...   \n",
      "1776              CA         Quebec   21/05/1997 0:00    26/07/2016 0:00  ...   \n",
      "1777              US             GA    5/12/2005 0:00    22/04/2015 0:00  ...   \n",
      "1778              CA             ON   27/05/2002 0:00    28/04/2017 0:00  ...   \n",
      "1779             NaN            NaN    5/05/2001 0:00    28/01/2015 0:00  ...   \n",
      "1780              CA             ON    1/12/1996 5:00   30/11/2016 10:30  ...   \n",
      "\n",
      "      DIST_REMOTE_TCP_PORT  REMOTE_IPS  APP_BYTES  SOURCE_APP_PACKETS  \\\n",
      "0                        0           2        700                   9   \n",
      "1                        0           0          0                   0   \n",
      "2                        7           4       1230                  17   \n",
      "3                        0           0          0                   0   \n",
      "4                        0           0          0                   0   \n",
      "...                    ...         ...        ...                 ...   \n",
      "1776                     6           2        798                   7   \n",
      "1777                     3           3        960                  12   \n",
      "1778                     6           7       1017                  18   \n",
      "1779                     2           5       1944                  21   \n",
      "1780                     4           3       2232                  19   \n",
      "\n",
      "      REMOTE_APP_PACKETS  SOURCE_APP_BYTES  REMOTE_APP_BYTES  APP_PACKETS  \\\n",
      "0                     10              1153               832            9   \n",
      "1                      0                 0                 0            0   \n",
      "2                     19              1265              1230           17   \n",
      "3                      0                 0                 0            0   \n",
      "4                      0                 0                 0            0   \n",
      "...                  ...               ...               ...          ...   \n",
      "1776                   8               492               798            7   \n",
      "1777                  16              1024               960           12   \n",
      "1778                  17              1563              1503           18   \n",
      "1779                  21              2698              2416           21   \n",
      "1780                  22              3283              2532           19   \n",
      "\n",
      "      DNS_QUERY_TIMES  Type  \n",
      "0                 2.0     1  \n",
      "1                 0.0     0  \n",
      "2                 0.0     0  \n",
      "3                 0.0     0  \n",
      "4                 0.0     0  \n",
      "...               ...   ...  \n",
      "1776              0.0     0  \n",
      "1777              0.0     0  \n",
      "1778              6.0     0  \n",
      "1779              6.0     0  \n",
      "1780              4.0     0  \n",
      "\n",
      "[1781 rows x 21 columns]\n"
     ]
    }
   ],
   "source": [
    "print(data)"
   ]
  }
 ],
 "metadata": {
  "kernelspec": {
   "display_name": "Python 3",
   "language": "python",
   "name": "python3"
  },
  "language_info": {
   "codemirror_mode": {
    "name": "ipython",
    "version": 3
   },
   "file_extension": ".py",
   "mimetype": "text/x-python",
   "name": "python",
   "nbconvert_exporter": "python",
   "pygments_lexer": "ipython3",
   "version": "3.12.3"
  }
 },
 "nbformat": 4,
 "nbformat_minor": 2
}
